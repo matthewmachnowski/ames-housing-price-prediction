{
 "cells": [
  {
   "cell_type": "code",
   "execution_count": 1,
   "id": "08d23b2e-d69a-431a-b230-2d97134889d6",
   "metadata": {},
   "outputs": [],
   "source": [
    "# import libraries\n",
    "import pandas as pd\n",
    "import numpy as np\n",
    "import matplotlib.pyplot as plt\n",
    "import seaborn as sns\n",
    "import scipy.stats as stats\n",
    "import warnings\n",
    "warnings.filterwarnings('ignore')\n",
    "from sklearn import preprocessing\n",
    "from sklearn.preprocessing import StandardScaler\n",
    "from sklearn.model_selection import cross_val_score, train_test_split, KFold\n",
    "from sklearn.linear_model import LinearRegression, Lasso, LassoCV\n",
    "from sklearn.metrics import mean_squared_error\n",
    "from sklearn.dummy import DummyRegressor\n",
    "\n",
    "sns.set_style()\n",
    "\n",
    "pd.set_option('display.max_columns', None)\n",
    "\n",
    "%matplotlib inline"
   ]
  },
  {
   "cell_type": "markdown",
   "id": "c80c081e-0b30-49b5-ae84-64c796cdd97a",
   "metadata": {},
   "source": [
    "# Import preprocessed data "
   ]
  },
  {
   "cell_type": "code",
   "execution_count": 2,
   "id": "a2537976-814b-4542-abcf-ede24ab77a9c",
   "metadata": {},
   "outputs": [],
   "source": [
    "train = pd.read_csv(\"data/train_cleaned.csv\")\n",
    "\n",
    "# remove unnamed and index columns\n",
    "train = train.iloc[:, 2:]"
   ]
  },
  {
   "cell_type": "code",
   "execution_count": 3,
   "id": "c8f96f9b-1203-4306-85bc-cae65b559585",
   "metadata": {},
   "outputs": [
    {
     "name": "stdout",
     "output_type": "stream",
     "text": [
      "<class 'pandas.core.frame.DataFrame'>\n",
      "RangeIndex: 1453 entries, 0 to 1452\n",
      "Data columns (total 58 columns):\n",
      " #   Column         Non-Null Count  Dtype  \n",
      "---  ------         --------------  -----  \n",
      " 0   id             1453 non-null   int64  \n",
      " 1   mssubclass     1453 non-null   int64  \n",
      " 2   mszoning       1453 non-null   object \n",
      " 3   lotfrontage    1453 non-null   float64\n",
      " 4   lotarea        1453 non-null   int64  \n",
      " 5   lotshape       1453 non-null   int64  \n",
      " 6   landcontour    1453 non-null   object \n",
      " 7   lotconfig      1453 non-null   object \n",
      " 8   landslope      1453 non-null   object \n",
      " 9   neighborhood   1453 non-null   object \n",
      " 10  condition1     1453 non-null   object \n",
      " 11  bldgtype       1453 non-null   object \n",
      " 12  housestyle     1453 non-null   object \n",
      " 13  overallqual    1453 non-null   int64  \n",
      " 14  overallcond    1453 non-null   int64  \n",
      " 15  yearbuilt      1453 non-null   int64  \n",
      " 16  yearremodadd   1453 non-null   int64  \n",
      " 17  roofstyle      1453 non-null   object \n",
      " 18  masvnrtype     1453 non-null   object \n",
      " 19  masvnrarea     1453 non-null   float64\n",
      " 20  exterqual      1453 non-null   int64  \n",
      " 21  foundation     1453 non-null   object \n",
      " 22  bsmtqual       1453 non-null   int64  \n",
      " 23  bsmtexposure   1453 non-null   int64  \n",
      " 24  bsmtfintype1   1453 non-null   object \n",
      " 25  bsmtfinsf1     1453 non-null   int64  \n",
      " 26  bsmtunfsf      1453 non-null   int64  \n",
      " 27  heatingqc      1453 non-null   int64  \n",
      " 28  grlivarea      1453 non-null   int64  \n",
      " 29  bsmtfullbath   1453 non-null   int64  \n",
      " 30  fullbath       1453 non-null   int64  \n",
      " 31  halfbath       1453 non-null   int64  \n",
      " 32  bedroomabvgr   1453 non-null   int64  \n",
      " 33  kitchenabvgr   1453 non-null   int64  \n",
      " 34  kitchenqual    1453 non-null   int64  \n",
      " 35  functional     1453 non-null   object \n",
      " 36  fireplaces     1453 non-null   int64  \n",
      " 37  fireplacequ    1453 non-null   int64  \n",
      " 38  garagetype     1453 non-null   object \n",
      " 39  garagefinish   1453 non-null   object \n",
      " 40  garagearea     1453 non-null   int64  \n",
      " 41  garagecond     1453 non-null   object \n",
      " 42  wooddecksf     1453 non-null   int64  \n",
      " 43  mosold         1453 non-null   int64  \n",
      " 44  yrsold         1453 non-null   int64  \n",
      " 45  salecondition  1453 non-null   object \n",
      " 46  saleprice      1453 non-null   int64  \n",
      " 47  porchpres      1453 non-null   int64  \n",
      " 48  poolpres       1453 non-null   int64  \n",
      " 49  garagepres     1453 non-null   int64  \n",
      " 50  fireplacepres  1453 non-null   int64  \n",
      " 51  masvnrpres     1453 non-null   int64  \n",
      " 52  bsmtpres       1453 non-null   int64  \n",
      " 53  shedpres       1453 non-null   int64  \n",
      " 54  exterior       1453 non-null   object \n",
      " 55  age_sold       1453 non-null   float64\n",
      " 56  2ndfloorpres   1453 non-null   int64  \n",
      " 57  bighouse       1453 non-null   float64\n",
      "dtypes: float64(4), int64(36), object(18)\n",
      "memory usage: 658.5+ KB\n"
     ]
    }
   ],
   "source": [
    "train.info()"
   ]
  },
  {
   "cell_type": "code",
   "execution_count": 4,
   "id": "19ee5f19-2cc7-451b-aebe-f3158126010f",
   "metadata": {},
   "outputs": [],
   "source": [
    "# convert mssubclass to string again since it got converted back to int on import\n",
    "train['mssubclass'] = train['mssubclass'].astype(str)"
   ]
  },
  {
   "cell_type": "markdown",
   "id": "de8ba4f9-e9fc-43da-ba0a-008c49862285",
   "metadata": {},
   "source": [
    "# One-hot encoding "
   ]
  },
  {
   "cell_type": "code",
   "execution_count": 5,
   "id": "19ae7cd3-d605-431c-90c6-a17119e2870f",
   "metadata": {},
   "outputs": [],
   "source": [
    "train_dummies = pd.get_dummies(train, drop_first = True)"
   ]
  },
  {
   "cell_type": "code",
   "execution_count": 6,
   "id": "4b376752-558e-4273-a54c-ef0a56de4d0b",
   "metadata": {},
   "outputs": [
    {
     "data": {
      "text/plain": [
       "(1453, 158)"
      ]
     },
     "execution_count": 6,
     "metadata": {},
     "output_type": "execute_result"
    }
   ],
   "source": [
    "train_dummies.shape"
   ]
  },
  {
   "cell_type": "markdown",
   "id": "c9a0ef94-8986-482b-846d-9c5298a26d3f",
   "metadata": {},
   "source": [
    "# Train-test-split "
   ]
  },
  {
   "cell_type": "code",
   "execution_count": 7,
   "id": "59fe72bb-7a77-47d4-8899-db4a6fee2b39",
   "metadata": {},
   "outputs": [
    {
     "name": "stdout",
     "output_type": "stream",
     "text": [
      "(1453, 157)\n",
      "(1453, 1)\n",
      "(1018, 157)\n",
      "(1018, 1)\n"
     ]
    }
   ],
   "source": [
    "x = train_dummies.loc[:, train_dummies.columns != 'saleprice']\n",
    "y = train_dummies[['saleprice']]\n",
    "\n",
    "print(x.shape)\n",
    "print(y.shape)\n",
    "\n",
    "# train test split\n",
    "np.random.seed(100)\n",
    "xtest, xtrain, ytest, ytrain = train_test_split(x, y, test_size = 0.7, random_state = 7)\n",
    "    # (wrong order but too late to change. but training data is 70% according to shape)\n",
    "    \n",
    "print(xtrain.shape)\n",
    "print(ytrain.shape)"
   ]
  },
  {
   "cell_type": "markdown",
   "id": "bfa3c131-6d3f-4dde-802a-eb2326cdee16",
   "metadata": {},
   "source": [
    "# Scale data "
   ]
  },
  {
   "cell_type": "code",
   "execution_count": 8,
   "id": "9ee0c5b6-a67f-4c59-acc2-c2cfc42e2420",
   "metadata": {},
   "outputs": [],
   "source": [
    "# scale data - standardscaler\n",
    "scaler = StandardScaler()\n",
    "\n",
    "xtrain_scaled = scaler.fit_transform(xtrain)\n",
    "xtest_scaled = scaler.transform(xtest)"
   ]
  },
  {
   "cell_type": "markdown",
   "id": "e210b7be-5412-4630-afac-8073d7f0e9e9",
   "metadata": {},
   "source": [
    "# Hyperparameter tuning \n",
    "\n",
    "lasso alpha $\\alpha$"
   ]
  },
  {
   "cell_type": "code",
   "execution_count": 9,
   "id": "3bb2f6e4-7048-40a9-b330-3b03fe404fbf",
   "metadata": {},
   "outputs": [
    {
     "name": "stdout",
     "output_type": "stream",
     "text": [
      "optimal lasso alpha:  0.1485\n",
      "best lasso R2:  0.9221506924964251\n"
     ]
    }
   ],
   "source": [
    "l_alpha = np.arange(0.001,0.15,0.0025)\n",
    "\n",
    "# fits multiple alphas\n",
    "lassocv = LassoCV(alphas = l_alpha, cv = 5)\n",
    "lassocv = lassocv.fit(xtrain_scaled, ytrain)\n",
    "\n",
    "print('optimal lasso alpha: ', lassocv.alpha_)\n",
    "print('best lasso R2: ', lassocv.score(xtrain_scaled, ytrain))"
   ]
  },
  {
   "cell_type": "markdown",
   "id": "fc97fa7a-eac2-4227-a453-a0765657a499",
   "metadata": {},
   "source": [
    "Standard LinearRegression "
   ]
  },
  {
   "cell_type": "code",
   "execution_count": 10,
   "id": "339a7acc-d89f-4283-a20e-9b758ff9e7ed",
   "metadata": {},
   "outputs": [
    {
     "name": "stdout",
     "output_type": "stream",
     "text": [
      "linear regression R2:  0.9219931333468336\n"
     ]
    }
   ],
   "source": [
    "from sklearn.linear_model import LinearRegression\n",
    "\n",
    "# fit linear regression model\n",
    "linreg = LinearRegression()\n",
    "linreg.fit(xtrain_scaled, ytrain)\n",
    "\n",
    "print('linear regression R2: ', linreg.score(xtrain_scaled, ytrain))"
   ]
  },
  {
   "cell_type": "markdown",
   "id": "6d248716-cd7b-4cca-9db8-563aac472a97",
   "metadata": {},
   "source": [
    "Cross validation "
   ]
  },
  {
   "cell_type": "markdown",
   "id": "e164ed5f-cbf9-4c23-af62-c99151846a84",
   "metadata": {},
   "source": [
    "# Model evaluation"
   ]
  },
  {
   "cell_type": "code",
   "execution_count": 11,
   "id": "62abf9ae-e637-4a61-aaef-4a9da4659375",
   "metadata": {},
   "outputs": [
    {
     "name": "stdout",
     "output_type": "stream",
     "text": [
      "lasso test R2:  0.8977359812072836\n",
      "lasso test RMSE:  25265.948498909154\n"
     ]
    }
   ],
   "source": [
    "lasso = Lasso(alpha = lassocv.alpha_)\n",
    "\n",
    "# --------------------------------------- DEFINE ERROR METRICS ---------------------------------------\n",
    "def rmse(ytest, ypred):\n",
    "    return np.sqrt(mean_squared_error(ytest, ypred))\n",
    "\n",
    "# fit model to train data\n",
    "lasso_mod = lasso.fit(xtrain_scaled, ytrain)\n",
    "# predict on test data\n",
    "ypred = lasso_mod.predict(xtest_scaled)\n",
    "# evaluate model performance\n",
    "print('lasso test R2: ', lasso_mod.score(xtest_scaled, ytest))\n",
    "print('lasso test RMSE: ', rmse(ytest, ypred))\n"
   ]
  },
  {
   "cell_type": "code",
   "execution_count": 12,
   "id": "c52ee962-9c4a-4131-8e0a-2d13ddded1ea",
   "metadata": {},
   "outputs": [
    {
     "data": {
      "image/png": "[encoded data removed]",
      "text/plain": [
       "<Figure size 432x360 with 1 Axes>"
      ]
     },
     "metadata": {
      "needs_background": "light"
     },
     "output_type": "display_data"
    }
   ],
   "source": [
    "# plot residuals\n",
    "resid = ypred - ytest.saleprice\n",
    "\n",
    "plt.rcParams['figure.figsize'] = (6.0, 5.0)\n",
    "plt.scatter(ytest.saleprice, resid)\n",
    "plt.axhline(0, linestyle='-', color='r')\n",
    "plt.title('residual distribution plot',fontsize=14)\n",
    "plt.xlabel('actual values',fontsize=12)\n",
    "plt.ylabel('residuals',fontsize=12)\n",
    "plt.plot([], [], ' ', label=\"model: lasso\")\n",
    "plt.legend()\n",
    "plt.tight_layout()"
   ]
  },
  {
   "cell_type": "code",
   "execution_count": 13,
   "id": "07770519-a1b9-40f8-9e1d-d2c271d6607c",
   "metadata": {},
   "outputs": [],
   "source": [
    "# plot ypred vs ytrue\n",
    "# fig, ax = plt.subplots(figsize=(6.0, 6.0))\n",
    "# ax.scatter(ytest.saleprice, ypred)\n",
    "# ax.set_title('predicted values distribution plot',fontsize=14)\n",
    "# ax.set_xlabel('actual values',fontsize=12)\n",
    "# ax.set_ylabel('predicted values',fontsize=12)\n",
    "# ax.set_xlim(20,45)\n",
    "# ax.set_ylim(20,45)\n",
    "# ax.plot(ax.get_xlim(), ax.get_ylim(), ls=\"-\", c=\"r\")\n",
    "# plt.plot([], [], ' ', label=\"model: lasso\")\n",
    "# plt.legend()\n",
    "# plt.tight_layout()"
   ]
  }
 ],
 "metadata": {
  "kernelspec": {
   "display_name": "Python 3 (ipykernel)",
   "language": "python",
   "name": "python3"
  },
  "language_info": {
   "codemirror_mode": {
    "name": "ipython",
    "version": 3
   },
   "file_extension": ".py",
   "mimetype": "text/x-python",
   "name": "python",
   "nbconvert_exporter": "python",
   "pygments_lexer": "ipython3",
   "version": "3.10.0"
  }
 },
 "nbformat": 4,
 "nbformat_minor": 5
}
